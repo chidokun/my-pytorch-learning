{
 "cells": [
  {
   "cell_type": "markdown",
   "metadata": {},
   "source": [
    "# Week 6: Convolution\n",
    "\n",
    "## Convolution"
   ]
  },
  {
   "cell_type": "code",
   "execution_count": 3,
   "metadata": {},
   "outputs": [
    {
     "name": "stdout",
     "output_type": "stream",
     "text": [
      "False\n",
      "CPU times: user 5.63 ms, sys: 0 ns, total: 5.63 ms\n",
      "Wall time: 4.65 ms\n"
     ]
    }
   ],
   "source": [
    "%%time\n",
    "import torch\n",
    "import numpy as np\n",
    "import pandas as pd\n",
    "import seaborn as sns\n",
    "import matplotlib.pyplot as plt\n",
    "sns.set_theme()\n",
    "\n",
    "print(torch.cuda.is_available())\n",
    "torch.manual_seed(1)\n",
    "from torch import nn"
   ]
  },
  {
   "cell_type": "code",
   "execution_count": 4,
   "metadata": {},
   "outputs": [
    {
     "data": {
      "text/plain": [
       "tensor([[[[0., 0., 1., 0., 0.],\n",
       "          [0., 0., 1., 0., 0.],\n",
       "          [0., 0., 1., 0., 0.],\n",
       "          [0., 0., 1., 0., 0.],\n",
       "          [0., 0., 1., 0., 0.]]]])"
      ]
     },
     "execution_count": 4,
     "metadata": {},
     "output_type": "execute_result"
    }
   ],
   "source": [
    "conv = nn.Conv2d(in_channels=1, out_channels=1, kernel_size=3)\n",
    "\n",
    "img = torch.zeros(1, 1, 5, 5)\n",
    "img[0,0,:,2]=1\n",
    "img"
   ]
  },
  {
   "cell_type": "code",
   "execution_count": 5,
   "metadata": {},
   "outputs": [
    {
     "data": {
      "text/plain": [
       "tensor([[[[ 0.1408, -0.3322,  0.2188],\n",
       "          [ 0.1408, -0.3322,  0.2188],\n",
       "          [ 0.1408, -0.3322,  0.2188]]]], grad_fn=<ConvolutionBackward0>)"
      ]
     },
     "execution_count": 5,
     "metadata": {},
     "output_type": "execute_result"
    }
   ],
   "source": [
    "z = conv(img)\n",
    "z"
   ]
  },
  {
   "cell_type": "markdown",
   "metadata": {},
   "source": [
    "## Max Pooling"
   ]
  },
  {
   "cell_type": "code",
   "execution_count": 6,
   "metadata": {},
   "outputs": [
    {
     "data": {
      "text/plain": [
       "MaxPool2d(kernel_size=2, stride=1, padding=0, dilation=1, ceil_mode=False)"
      ]
     },
     "execution_count": 6,
     "metadata": {},
     "output_type": "execute_result"
    }
   ],
   "source": [
    "maxpool = nn.MaxPool2d(2, stride=1)\n",
    "maxpool"
   ]
  },
  {
   "cell_type": "code",
   "execution_count": 7,
   "metadata": {},
   "outputs": [
    {
     "data": {
      "text/plain": [
       "tensor([[[[0., 1., 1., 0.],\n",
       "          [0., 1., 1., 0.],\n",
       "          [0., 1., 1., 0.],\n",
       "          [0., 1., 1., 0.]]]])"
      ]
     },
     "execution_count": 7,
     "metadata": {},
     "output_type": "execute_result"
    }
   ],
   "source": [
    "maxpool(img)"
   ]
  },
  {
   "cell_type": "markdown",
   "metadata": {},
   "source": [
    "## Multiple Inputs and Outputs"
   ]
  },
  {
   "cell_type": "code",
   "execution_count": 8,
   "metadata": {},
   "outputs": [
    {
     "data": {
      "text/plain": [
       "tensor([[[[ 0.3276, -0.0647, -0.0447],\n",
       "          [ 0.3276, -0.0647, -0.0447],\n",
       "          [ 0.3276, -0.0647, -0.0447]],\n",
       "\n",
       "         [[ 0.0157,  0.0734,  0.2065],\n",
       "          [ 0.0157,  0.0734,  0.2065],\n",
       "          [ 0.0157,  0.0734,  0.2065]],\n",
       "\n",
       "         [[-0.0728,  0.1110, -0.4815],\n",
       "          [-0.0728,  0.1110, -0.4815],\n",
       "          [-0.0728,  0.1110, -0.4815]]]], grad_fn=<ConvolutionBackward0>)"
      ]
     },
     "execution_count": 8,
     "metadata": {},
     "output_type": "execute_result"
    }
   ],
   "source": [
    "conv = nn.Conv2d(in_channels=1, out_channels=3, kernel_size=3)\n",
    "# tự gen 3 kernel cho ra 3 output\n",
    "conv(img)"
   ]
  },
  {
   "cell_type": "code",
   "execution_count": 13,
   "metadata": {},
   "outputs": [
    {
     "data": {
      "text/plain": [
       "tensor([[[[0.1469, 0.1469, 0.1469],\n",
       "          [0.1469, 0.1469, 0.1469],\n",
       "          [0.1469, 0.1469, 0.1469]]]], grad_fn=<ConvolutionBackward0>)"
      ]
     },
     "execution_count": 13,
     "metadata": {},
     "output_type": "execute_result"
    }
   ],
   "source": [
    "conv = nn.Conv2d(in_channels=2, out_channels=1, kernel_size=3)\n",
    "# dùng 2 kernel rồi sum lại cho thành 1\n",
    "conv(torch.zeros(1, 2, 5, 5))"
   ]
  },
  {
   "cell_type": "code",
   "execution_count": 14,
   "metadata": {},
   "outputs": [
    {
     "data": {
      "text/plain": [
       "tensor([[[[-0.1274, -0.1274, -0.1274],\n",
       "          [-0.1274, -0.1274, -0.1274],\n",
       "          [-0.1274, -0.1274, -0.1274]],\n",
       "\n",
       "         [[ 0.0843,  0.0843,  0.0843],\n",
       "          [ 0.0843,  0.0843,  0.0843],\n",
       "          [ 0.0843,  0.0843,  0.0843]],\n",
       "\n",
       "         [[-0.0907, -0.0907, -0.0907],\n",
       "          [-0.0907, -0.0907, -0.0907],\n",
       "          [-0.0907, -0.0907, -0.0907]]]], grad_fn=<ConvolutionBackward0>)"
      ]
     },
     "execution_count": 14,
     "metadata": {},
     "output_type": "execute_result"
    }
   ],
   "source": [
    "conv = nn.Conv2d(in_channels=2, out_channels=3, kernel_size=3)\n",
    "# dùng 6 kernel, 2 kernel x 2 input rồi sum lại thành 1 out, làm 3 lần thành 3 out\n",
    "conv(torch.zeros(1, 2, 5, 5))"
   ]
  }
 ],
 "metadata": {
  "kernelspec": {
   "display_name": "pytorch-learning",
   "language": "python",
   "name": "python3"
  },
  "language_info": {
   "codemirror_mode": {
    "name": "ipython",
    "version": 3
   },
   "file_extension": ".py",
   "mimetype": "text/x-python",
   "name": "python",
   "nbconvert_exporter": "python",
   "pygments_lexer": "ipython3",
   "version": "3.9.19"
  }
 },
 "nbformat": 4,
 "nbformat_minor": 2
}
