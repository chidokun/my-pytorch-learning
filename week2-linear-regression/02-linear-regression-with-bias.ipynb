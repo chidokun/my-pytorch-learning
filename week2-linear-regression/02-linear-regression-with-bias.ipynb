{
 "cells": [
  {
   "cell_type": "markdown",
   "metadata": {},
   "source": [
    "# Week 2: Linear Regression\n",
    "\n",
    "## Linear Regression with Bias"
   ]
  },
  {
   "cell_type": "code",
   "execution_count": 1,
   "metadata": {},
   "outputs": [
    {
     "name": "stdout",
     "output_type": "stream",
     "text": [
      "False\n",
      "CPU times: user 2.4 s, sys: 568 ms, total: 2.96 s\n",
      "Wall time: 2.96 s\n"
     ]
    }
   ],
   "source": [
    "%%time\n",
    "import torch\n",
    "import numpy as np\n",
    "import pandas as pd\n",
    "import seaborn as sns\n",
    "import matplotlib.pyplot as plt\n",
    "sns.set_theme()\n",
    "\n",
    "print(torch.cuda.is_available())"
   ]
  },
  {
   "cell_type": "code",
   "execution_count": 2,
   "metadata": {},
   "outputs": [
    {
     "data": {
      "text/plain": [
       "tensor(-15., requires_grad=True)"
      ]
     },
     "execution_count": 2,
     "metadata": {},
     "output_type": "execute_result"
    }
   ],
   "source": [
    "w = torch.tensor(-15.0, requires_grad=True)\n",
    "w"
   ]
  },
  {
   "cell_type": "code",
   "execution_count": 3,
   "metadata": {},
   "outputs": [
    {
     "data": {
      "text/plain": [
       "tensor(-10., requires_grad=True)"
      ]
     },
     "execution_count": 3,
     "metadata": {},
     "output_type": "execute_result"
    }
   ],
   "source": [
    "b = torch.tensor(-10.0, requires_grad=True)\n",
    "b"
   ]
  },
  {
   "cell_type": "code",
   "execution_count": 4,
   "metadata": {},
   "outputs": [
    {
     "data": {
      "text/plain": [
       "tensor([[-3.0000e+00],\n",
       "        [-2.9000e+00],\n",
       "        [-2.8000e+00],\n",
       "        [-2.7000e+00],\n",
       "        [-2.6000e+00],\n",
       "        [-2.5000e+00],\n",
       "        [-2.4000e+00],\n",
       "        [-2.3000e+00],\n",
       "        [-2.2000e+00],\n",
       "        [-2.1000e+00],\n",
       "        [-2.0000e+00],\n",
       "        [-1.9000e+00],\n",
       "        [-1.8000e+00],\n",
       "        [-1.7000e+00],\n",
       "        [-1.6000e+00],\n",
       "        [-1.5000e+00],\n",
       "        [-1.4000e+00],\n",
       "        [-1.3000e+00],\n",
       "        [-1.2000e+00],\n",
       "        [-1.1000e+00],\n",
       "        [-1.0000e+00],\n",
       "        [-9.0000e-01],\n",
       "        [-8.0000e-01],\n",
       "        [-7.0000e-01],\n",
       "        [-6.0000e-01],\n",
       "        [-5.0000e-01],\n",
       "        [-4.0000e-01],\n",
       "        [-3.0000e-01],\n",
       "        [-2.0000e-01],\n",
       "        [-1.0000e-01],\n",
       "        [-2.3842e-08],\n",
       "        [ 1.0000e-01],\n",
       "        [ 2.0000e-01],\n",
       "        [ 3.0000e-01],\n",
       "        [ 4.0000e-01],\n",
       "        [ 5.0000e-01],\n",
       "        [ 6.0000e-01],\n",
       "        [ 7.0000e-01],\n",
       "        [ 8.0000e-01],\n",
       "        [ 9.0000e-01],\n",
       "        [ 1.0000e+00],\n",
       "        [ 1.1000e+00],\n",
       "        [ 1.2000e+00],\n",
       "        [ 1.3000e+00],\n",
       "        [ 1.4000e+00],\n",
       "        [ 1.5000e+00],\n",
       "        [ 1.6000e+00],\n",
       "        [ 1.7000e+00],\n",
       "        [ 1.8000e+00],\n",
       "        [ 1.9000e+00],\n",
       "        [ 2.0000e+00],\n",
       "        [ 2.1000e+00],\n",
       "        [ 2.2000e+00],\n",
       "        [ 2.3000e+00],\n",
       "        [ 2.4000e+00],\n",
       "        [ 2.5000e+00],\n",
       "        [ 2.6000e+00],\n",
       "        [ 2.7000e+00],\n",
       "        [ 2.8000e+00],\n",
       "        [ 2.9000e+00]])"
      ]
     },
     "execution_count": 4,
     "metadata": {},
     "output_type": "execute_result"
    }
   ],
   "source": [
    "X = torch.arange(-3,3,0.1).view(-1,1)\n",
    "X"
   ]
  },
  {
   "cell_type": "code",
   "execution_count": 5,
   "metadata": {},
   "outputs": [
    {
     "data": {
      "text/plain": [
       "tensor([[-4.0000],\n",
       "        [-3.9000],\n",
       "        [-3.8000],\n",
       "        [-3.7000],\n",
       "        [-3.6000],\n",
       "        [-3.5000],\n",
       "        [-3.4000],\n",
       "        [-3.3000],\n",
       "        [-3.2000],\n",
       "        [-3.1000],\n",
       "        [-3.0000],\n",
       "        [-2.9000],\n",
       "        [-2.8000],\n",
       "        [-2.7000],\n",
       "        [-2.6000],\n",
       "        [-2.5000],\n",
       "        [-2.4000],\n",
       "        [-2.3000],\n",
       "        [-2.2000],\n",
       "        [-2.1000],\n",
       "        [-2.0000],\n",
       "        [-1.9000],\n",
       "        [-1.8000],\n",
       "        [-1.7000],\n",
       "        [-1.6000],\n",
       "        [-1.5000],\n",
       "        [-1.4000],\n",
       "        [-1.3000],\n",
       "        [-1.2000],\n",
       "        [-1.1000],\n",
       "        [-1.0000],\n",
       "        [-0.9000],\n",
       "        [-0.8000],\n",
       "        [-0.7000],\n",
       "        [-0.6000],\n",
       "        [-0.5000],\n",
       "        [-0.4000],\n",
       "        [-0.3000],\n",
       "        [-0.2000],\n",
       "        [-0.1000],\n",
       "        [ 0.0000],\n",
       "        [ 0.1000],\n",
       "        [ 0.2000],\n",
       "        [ 0.3000],\n",
       "        [ 0.4000],\n",
       "        [ 0.5000],\n",
       "        [ 0.6000],\n",
       "        [ 0.7000],\n",
       "        [ 0.8000],\n",
       "        [ 0.9000],\n",
       "        [ 1.0000],\n",
       "        [ 1.1000],\n",
       "        [ 1.2000],\n",
       "        [ 1.3000],\n",
       "        [ 1.4000],\n",
       "        [ 1.5000],\n",
       "        [ 1.6000],\n",
       "        [ 1.7000],\n",
       "        [ 1.8000],\n",
       "        [ 1.9000]])"
      ]
     },
     "execution_count": 5,
     "metadata": {},
     "output_type": "execute_result"
    }
   ],
   "source": [
    "f = 1*X-1\n",
    "f"
   ]
  },
  {
   "cell_type": "code",
   "execution_count": 6,
   "metadata": {},
   "outputs": [
    {
     "data": {
      "text/plain": [
       "tensor([[-4.1797],\n",
       "        [-3.9424],\n",
       "        [-3.6070],\n",
       "        [-3.7576],\n",
       "        [-3.5745],\n",
       "        [-3.6674],\n",
       "        [-3.4072],\n",
       "        [-3.1572],\n",
       "        [-3.1263],\n",
       "        [-2.9678],\n",
       "        [-3.0002],\n",
       "        [-2.7910],\n",
       "        [-2.9224],\n",
       "        [-2.6386],\n",
       "        [-2.5402],\n",
       "        [-2.3711],\n",
       "        [-2.5797],\n",
       "        [-2.3754],\n",
       "        [-2.3324],\n",
       "        [-2.1078],\n",
       "        [-1.9879],\n",
       "        [-1.8871],\n",
       "        [-1.9941],\n",
       "        [-1.8586],\n",
       "        [-1.6040],\n",
       "        [-1.5082],\n",
       "        [-1.2241],\n",
       "        [-1.3965],\n",
       "        [-1.2764],\n",
       "        [-1.0596],\n",
       "        [-1.0958],\n",
       "        [-0.8447],\n",
       "        [-0.6143],\n",
       "        [-0.7164],\n",
       "        [-0.5840],\n",
       "        [-0.5912],\n",
       "        [-0.3238],\n",
       "        [-0.3177],\n",
       "        [-0.2937],\n",
       "        [-0.0887],\n",
       "        [ 0.0333],\n",
       "        [ 0.0551],\n",
       "        [ 0.2133],\n",
       "        [ 0.1739],\n",
       "        [ 0.3814],\n",
       "        [ 0.4028],\n",
       "        [ 0.6906],\n",
       "        [ 0.8753],\n",
       "        [ 0.6484],\n",
       "        [ 0.7532],\n",
       "        [ 1.0617],\n",
       "        [ 0.8961],\n",
       "        [ 1.3013],\n",
       "        [ 1.3589],\n",
       "        [ 1.4591],\n",
       "        [ 1.5043],\n",
       "        [ 1.6895],\n",
       "        [ 1.6965],\n",
       "        [ 1.7678],\n",
       "        [ 2.0584]])"
      ]
     },
     "execution_count": 6,
     "metadata": {},
     "output_type": "execute_result"
    }
   ],
   "source": [
    "Y=f+0.1*torch.randn(X.size())\n",
    "Y"
   ]
  },
  {
   "cell_type": "code",
   "execution_count": 7,
   "metadata": {},
   "outputs": [],
   "source": [
    "def forward(x):\n",
    "    return w * x + b\n",
    "\n",
    "def criterion(yhat, y):\n",
    "    return torch.mean((yhat-y)**2)"
   ]
  },
  {
   "cell_type": "code",
   "execution_count": 8,
   "metadata": {},
   "outputs": [
    {
     "name": "stdout",
     "output_type": "stream",
     "text": [
      "tensor(-95.1719)\n",
      "tensor(-38.2009)\n",
      "tensor(-15.4083)\n",
      "tensor(-6.2745)\n"
     ]
    }
   ],
   "source": [
    "lr=0.1\n",
    "cost = []\n",
    "for epoch in range(4):\n",
    "    yhat = forward(X)\n",
    "    loss = criterion(yhat,Y)\n",
    "    loss.backward()\n",
    "    print(w.grad)\n",
    "    w.data = w.data-lr*w.grad.data\n",
    "    w.grad.data.zero_()\n",
    "\n",
    "    b.data = b.data-lr*b.grad.data\n",
    "    b.grad.data.zero_()\n",
    "\n",
    "    cost.append(loss.item())"
   ]
  },
  {
   "cell_type": "code",
   "execution_count": 9,
   "metadata": {},
   "outputs": [
    {
     "data": {
      "image/png": "[encoded data removed]",
      "text/plain": [
       "<Figure size 640x480 with 1 Axes>"
      ]
     },
     "metadata": {},
     "output_type": "display_data"
    }
   ],
   "source": [
    "plt.plot(cost)\n",
    "plt.show()"
   ]
  }
 ],
 "metadata": {
  "kernelspec": {
   "display_name": "pytorch-learning",
   "language": "python",
   "name": "python3"
  },
  "language_info": {
   "codemirror_mode": {
    "name": "ipython",
    "version": 3
   },
   "file_extension": ".py",
   "mimetype": "text/x-python",
   "name": "python",
   "nbconvert_exporter": "python",
   "pygments_lexer": "ipython3",
   "version": "3.9.19"
  }
 },
 "nbformat": 4,
 "nbformat_minor": 2
}
